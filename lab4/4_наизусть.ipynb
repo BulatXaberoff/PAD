{
 "cells": [
  {
   "cell_type": "code",
   "execution_count": 2,
   "metadata": {},
   "outputs": [
    {
     "name": "stdout",
     "output_type": "stream",
     "text": [
      "Значение 20.0-го перцентиля: 4.2\n",
      "Значение 3-го квартиля: 15.9\n",
      "\n",
      "Пояснение:\n",
      "Перцентиль - это значение, которое превышают 20.0% данных.\n",
      "Квартиль - это значение, которое делит упорядоченный набор данных на 4 равные части.\n",
      "1-й квартиль (5.574999999999999) - 25% данных меньше этого значения.\n",
      "2-й квартиль (15.9) - 50% данных меньше этого значения (это же медиана).\n",
      "3-й квартиль (28.8) - 75% данных меньше этого значения.\n"
     ]
    }
   ],
   "source": [
    "import pandas as pd\n",
    "\n",
    "# 1. Чтение данных из файла\n",
    "with open('4__09.30__строка для квартилей.txt', 'r') as file:\n",
    "    data_str = file.readline().strip()\n",
    "data = [float(x) for x in data_str.split(',')]\n",
    "\n",
    "# 2. Нахождение перцентиля\n",
    "while True:\n",
    "    try:\n",
    "        percentile = float(input(\"Введите перцентиль (от 0 до 100): \"))\n",
    "        if 0 <= percentile <= 100:\n",
    "            break\n",
    "        else:\n",
    "            print(\"Некорректный ввод. Перцентиль должен быть от 0 до 100.\")\n",
    "    except ValueError:\n",
    "        print(\"Некорректный ввод. Введите число.\")\n",
    "\n",
    "# Pandas Series для удобного нахождения перцентиля\n",
    "data_series = pd.Series(data)\n",
    "percentile_value = data_series.quantile(percentile / 100)\n",
    "print(f\"Значение {percentile}-го перцентиля: {percentile_value}\")\n",
    "\n",
    "# 3. Нахождение квартиля\n",
    "while True:\n",
    "    try:\n",
    "        quartile = int(input(\"Введите квартиль (1, 2, 3 или 4): \"))\n",
    "        if 1 <= quartile <= 4:\n",
    "            break\n",
    "        else:\n",
    "            print(\"Некорректный ввод. Квартиль должен быть от 1 до 4.\")\n",
    "    except ValueError:\n",
    "        print(\"Некорректный ввод. Введите число.\")\n",
    "\n",
    "quartile_value = data_series.quantile((quartile - 1) / 4)\n",
    "print(f\"Значение {quartile}-го квартиля: {quartile_value}\")\n",
    "\n",
    "# 4. Понимание смысла\n",
    "print(\"\\nПояснение:\")\n",
    "print(f\"Перцентиль - это значение, которое превышают {percentile}% данных.\")\n",
    "print(f\"Квартиль - это значение, которое делит упорядоченный набор данных на 4 равные части.\")\n",
    "print(f\"1-й квартиль ({data_series.quantile(0.25)}) - 25% данных меньше этого значения.\")\n",
    "print(f\"2-й квартиль ({data_series.quantile(0.5)}) - 50% данных меньше этого значения (это же медиана).\")\n",
    "print(f\"3-й квартиль ({data_series.quantile(0.75)}) - 75% данных меньше этого значения.\")"
   ]
  }
 ],
 "metadata": {
  "kernelspec": {
   "display_name": "Python 3",
   "language": "python",
   "name": "python3"
  },
  "language_info": {
   "codemirror_mode": {
    "name": "ipython",
    "version": 3
   },
   "file_extension": ".py",
   "mimetype": "text/x-python",
   "name": "python",
   "nbconvert_exporter": "python",
   "pygments_lexer": "ipython3",
   "version": "3.10.0"
  }
 },
 "nbformat": 4,
 "nbformat_minor": 2
}
