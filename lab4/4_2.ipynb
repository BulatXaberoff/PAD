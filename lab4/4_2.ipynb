{
 "cells": [
  {
   "cell_type": "code",
   "execution_count": 14,
   "metadata": {},
   "outputs": [],
   "source": [
    "from scipy.stats import pearsonr\n",
    "from sklearn.linear_model import LinearRegression\n",
    "import numpy as np\n",
    "import pandas as pd\n",
    "import csv\n",
    "\n",
    "data = pd.read_excel(r'C:\\Users\\bulyn\\Desktop\\Тестовое\\4__09.30__табл для кореляц.xlsx')\n",
    "\n"
   ]
  },
  {
   "cell_type": "code",
   "execution_count": 15,
   "metadata": {},
   "outputs": [
    {
     "data": {
      "text/plain": [
       "(0.4920592224603668,\n",
       " 0.5401634214450176,\n",
       " 1.0977609945894782,\n",
       " 0.6993097893590068,\n",
       " 1.4211902905962364)"
      ]
     },
     "execution_count": 15,
     "metadata": {},
     "output_type": "execute_result"
    }
   ],
   "source": [
    "# Извлечение нужных столбцов\n",
    "x = data['student'].values\n",
    "y = data['rating'].values\n",
    "\n",
    "# 1. Коэффициент корреляции Пирсона для исходных данных\n",
    "initial_pearson_corr, _ = pearsonr(x, y)\n",
    "\n",
    "# 2. Определение средней линии зависимости y(x) с использованием линейной регрессии\n",
    "reg_model = LinearRegression()\n",
    "reg_model.fit(x.reshape(-1, 1), y)\n",
    "y_pred = reg_model.predict(x.reshape(-1, 1))\n",
    "\n",
    "# Вычисление отклонений от средней линии\n",
    "deviations = np.abs(y - y_pred)\n",
    "\n",
    "# Определим функцию для удаления выбросов и повторного расчета корреляции\n",
    "def calculate_modified_correlation(x, y, deviations, outlier_percentage):\n",
    "    # Определение количества выбросов, которые нужно удалить\n",
    "    num_outliers = int(len(x) * (outlier_percentage / 100))\n",
    "    \n",
    "    # Получение индексов точек с наибольшими отклонениями\n",
    "    outlier_indices = np.argsort(deviations)[-num_outliers:]\n",
    "    \n",
    "    # Удаление выбросов\n",
    "    x_filtered = np.delete(x, outlier_indices)\n",
    "    y_filtered = np.delete(y, outlier_indices)\n",
    "    \n",
    "    # Коэффициент корреляции Пирсона для данных без выбросов\n",
    "    modified_pearson_corr, _ = pearsonr(x_filtered, y_filtered)\n",
    "    \n",
    "    return modified_pearson_corr\n",
    "\n",
    "# 5% выбросов\n",
    "modified_corr_5 = calculate_modified_correlation(x, y, deviations, 5)\n",
    "\n",
    "# 10% выбросов\n",
    "modified_corr_10 = calculate_modified_correlation(x, y, deviations, 10)\n",
    "\n",
    "# Соотношение измененных коэффициентов к начальному\n",
    "ratio_5_percent = modified_corr_5 / initial_pearson_corr\n",
    "ratio_10_percent = modified_corr_10 / initial_pearson_corr\n",
    "\n",
    "initial_pearson_corr, modified_corr_5, ratio_5_percent, modified_corr_10, ratio_10_percent"
   ]
  },
  {
   "cell_type": "code",
   "execution_count": null,
   "metadata": {},
   "outputs": [],
   "source": []
  }
 ],
 "metadata": {
  "kernelspec": {
   "display_name": "Python 3",
   "language": "python",
   "name": "python3"
  },
  "language_info": {
   "codemirror_mode": {
    "name": "ipython",
    "version": 3
   },
   "file_extension": ".py",
   "mimetype": "text/x-python",
   "name": "python",
   "nbconvert_exporter": "python",
   "pygments_lexer": "ipython3",
   "version": "3.10.0"
  }
 },
 "nbformat": 4,
 "nbformat_minor": 2
}
