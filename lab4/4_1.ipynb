{
 "cells": [
  {
   "cell_type": "code",
   "execution_count": 2,
   "metadata": {},
   "outputs": [],
   "source": [
    "import numpy as np\n",
    "\n",
    "# Определим параметры задачи\n",
    "num_families = 20000\n",
    "np.random.seed(0)  # для воспроизводимости\n",
    "\n",
    "# Симулируем семьи: 1 - мальчик, 0 - девочка\n",
    "families = np.random.randint(0, 2, (num_families, 3))\n"
   ]
  },
  {
   "cell_type": "code",
   "execution_count": null,
   "metadata": {},
   "outputs": [],
   "source": [
    "families"
   ]
  },
  {
   "cell_type": "code",
   "execution_count": 3,
   "metadata": {},
   "outputs": [
    {
     "data": {
      "text/plain": [
       "array([[0, 1, 1],\n",
       "       [0, 1, 1],\n",
       "       [1, 1, 1],\n",
       "       ...,\n",
       "       [0, 0, 0],\n",
       "       [1, 1, 1],\n",
       "       [0, 1, 1]])"
      ]
     },
     "execution_count": 3,
     "metadata": {},
     "output_type": "execute_result"
    }
   ],
   "source": [
    "\n",
    "# Подсчитываем необходимые события\n",
    "# (а) Три мальчика\n",
    "three_boys = np.sum(np.all(families == 1, axis=1))\n",
    "three_boys"
   ]
  },
  {
   "cell_type": "code",
   "execution_count": 4,
   "metadata": {},
   "outputs": [],
   "source": [
    "\n",
    "# (б) Три девочки\n",
    "three_girls = np.sum(np.all(families == 0, axis=1))\n",
    "three_girls"
   ]
  },
  {
   "cell_type": "code",
   "execution_count": null,
   "metadata": {},
   "outputs": [],
   "source": [
    "\n",
    "\n",
    "# (в) Старший мальчик и младшие девочки\n",
    "eldest_boy_rest_girls = np.sum((families[:, 0] == 1) & (families[:, 1:] == 0).all(axis=1))\n",
    "eldest_boy_rest_girls"
   ]
  },
  {
   "cell_type": "code",
   "execution_count": null,
   "metadata": {},
   "outputs": [],
   "source": [
    "\n",
    "\n",
    "# Расчет долей\n",
    "prob_three_boys = three_boys / num_families\n",
    "prob_three_girls = three_girls / num_families\n",
    "prob_eldest_boy_rest_girls = eldest_boy_rest_girls / num_families\n",
    "\n",
    "# Теоретические вероятности\n",
    "theoretical_prob_three_boys = (0.5 ** 3)\n",
    "theoretical_prob_three_girls = (0.5 ** 3)\n",
    "theoretical_prob_eldest_boy_rest_girls = 0.5 * (0.5 ** 2)\n",
    "\n",
    "(prob_three_boys, prob_three_girls, prob_eldest_boy_rest_girls,\n",
    " theoretical_prob_three_boys, theoretical_prob_three_girls, theoretical_prob_eldest_boy_rest_girls)"
   ]
  },
  {
   "cell_type": "code",
   "execution_count": null,
   "metadata": {},
   "outputs": [],
   "source": [
    "\n",
    "\n"
   ]
  },
  {
   "cell_type": "code",
   "execution_count": null,
   "metadata": {},
   "outputs": [],
   "source": []
  }
 ],
 "metadata": {
  "kernelspec": {
   "display_name": "Python 3",
   "language": "python",
   "name": "python3"
  },
  "language_info": {
   "codemirror_mode": {
    "name": "ipython",
    "version": 3
   },
   "file_extension": ".py",
   "mimetype": "text/x-python",
   "name": "python",
   "nbconvert_exporter": "python",
   "pygments_lexer": "ipython3",
   "version": "3.10.0"
  }
 },
 "nbformat": 4,
 "nbformat_minor": 2
}
