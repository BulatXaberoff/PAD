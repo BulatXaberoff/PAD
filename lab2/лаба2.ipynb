{
 "cells": [
  {
   "cell_type": "code",
   "execution_count": 2,
   "metadata": {},
   "outputs": [],
   "source": [
    "path=r'C:\\Users\\bulyn\\ПАД\\PAD\\2__10916__табл данные.txt'"
   ]
  },
  {
   "cell_type": "code",
   "execution_count": 3,
   "metadata": {},
   "outputs": [],
   "source": [
    "with open(path, 'r', encoding='latin-1') as file:\n",
    "    txt = file.read() "
   ]
  },
  {
   "cell_type": "code",
   "execution_count": 11,
   "metadata": {},
   "outputs": [
    {
     "name": "stdout",
     "output_type": "stream",
     "text": [
      "( 15 ; 11 ):\t 0.0á3\n",
      "( 26 ; 6 ):\t 3.2Î8\n",
      "( 29 ; 10 ):\t 0.1Î8\n",
      "( 45 ; 6 ):\t 3.2á1\n",
      "( 58 ; 3 ):\t 1.9á1\n"
     ]
    }
   ],
   "source": [
    "import numpy as np\n",
    "with open(path, 'r', encoding='latin-1') as file:\n",
    "    txt = file.read() \n",
    "\n",
    "strings = txt.strip().split('\\n')\n",
    "\n",
    "data = np.empty((len(strings), 13))\n",
    "\n",
    "j = 0\n",
    "error_arr=[]\n",
    "\n",
    "\n",
    "for i, string in enumerate(strings):\n",
    "    j=0\n",
    "    for x in string.split():\n",
    "        try:\n",
    "            values = float(x)\n",
    "        except:\n",
    "            print('(',i,';',j,'):\\t',x) \n",
    "            # 1-е задание\n",
    "            error_arr.append(x)\n",
    "        j+=1\n"
   ]
  },
  {
   "cell_type": "code",
   "execution_count": 5,
   "metadata": {},
   "outputs": [],
   "source": [
    "# Если á,то 8\n",
    "# Если Î,то обнуляет значение\n",
    "\n",
    "with open(path, 'r', encoding='latin-1') as file:\n",
    "    txt = file.read() \n",
    "\n",
    "\n",
    "strings = txt.strip().split('\\n')\n",
    "data = np.empty((len(strings), 13))\n",
    "s = ''\n",
    "\n",
    "txt=txt.replace('á','8')\n",
    "strings = txt.strip().split('\\n')\n",
    "for string in strings:\n",
    "  for x in string.split():\n",
    "    ind = x.find('Î')\n",
    "    if ind != -1:\n",
    "        x = x[:ind] + '0' * (len(x) - ind)\n",
    "    s += x + '\\t'\n",
    "  s+='\\n'"
   ]
  },
  {
   "cell_type": "code",
   "execution_count": 6,
   "metadata": {},
   "outputs": [
    {
     "data": {
      "text/plain": [
       "Index(['2', '562', '27.58', '0.176', '0.088', '0.044', '0.149', '0.096',\n",
       "       '0.048', '0.059', '0.064', '0.032', '-0.0005', 'Unnamed: 13'],\n",
       "      dtype='object')"
      ]
     },
     "execution_count": 6,
     "metadata": {},
     "output_type": "execute_result"
    }
   ],
   "source": [
    "import pandas as pd\n",
    "from io import StringIO\n",
    "\n",
    "# Исходная строка в формате CSV\n",
    "строка = s\n",
    "# Используем StringIO для чтения строки как файла\n",
    "данные = StringIO(строка)\n",
    "\n",
    "# Чтение данных в DataFrame\n",
    "df = pd.read_csv(данные,delimiter = '\\t')\n",
    "\n",
    "# Выводим DataFrame\n",
    "df.columns\n"
   ]
  },
  {
   "cell_type": "code",
   "execution_count": null,
   "metadata": {},
   "outputs": [],
   "source": []
  }
 ],
 "metadata": {
  "kernelspec": {
   "display_name": "Python 3",
   "language": "python",
   "name": "python3"
  },
  "language_info": {
   "codemirror_mode": {
    "name": "ipython",
    "version": 3
   },
   "file_extension": ".py",
   "mimetype": "text/x-python",
   "name": "python",
   "nbconvert_exporter": "python",
   "pygments_lexer": "ipython3",
   "version": "3.10.0"
  }
 },
 "nbformat": 4,
 "nbformat_minor": 2
}
