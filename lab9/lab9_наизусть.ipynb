{
 "cells": [
  {
   "cell_type": "code",
   "execution_count": 2,
   "metadata": {},
   "outputs": [
    {
     "name": "stdout",
     "output_type": "stream",
     "text": [
      "Количество строк: 28\n",
      "Количество предложений: 5\n"
     ]
    }
   ],
   "source": [
    "import re\n",
    "\n",
    "def count_lines_and_sentences(filename):\n",
    "    with open(filename, 'r', encoding='utf-8') as file:\n",
    "        text = file.read()\n",
    "        \n",
    "    # Разделяем на строки\n",
    "    lines = text.splitlines()\n",
    "    num_lines = len(lines)\n",
    "    \n",
    "    # Разделяем на предложения (по знакам пунктуации)\n",
    "    sentences = re.split(r'[.!?]', text)\n",
    "    num_sentences = len([s for s in sentences if s.strip()])  # игнорируем пустые строки\n",
    "    \n",
    "    return num_lines, num_sentences\n",
    "\n",
    "# Пример использования\n",
    "filename = r'C:\\Users\\bulyn\\Documents\\GitHub\\PAD\\lab9\\Pushkin.txt'  # Укажите путь к файлу со стихотворением\n",
    "lines, sentences = count_lines_and_sentences(filename)\n",
    "\n",
    "print(f\"Количество строк: {lines}\")\n",
    "print(f\"Количество предложений: {sentences}\")\n"
   ]
  }
 ],
 "metadata": {
  "kernelspec": {
   "display_name": "Python 3",
   "language": "python",
   "name": "python3"
  },
  "language_info": {
   "codemirror_mode": {
    "name": "ipython",
    "version": 3
   },
   "file_extension": ".py",
   "mimetype": "text/x-python",
   "name": "python",
   "nbconvert_exporter": "python",
   "pygments_lexer": "ipython3",
   "version": "3.10.0"
  }
 },
 "nbformat": 4,
 "nbformat_minor": 2
}
