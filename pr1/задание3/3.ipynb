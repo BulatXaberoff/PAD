{
 "cells": [
  {
   "cell_type": "code",
   "execution_count": null,
   "id": "a1b0164b",
   "metadata": {},
   "outputs": [],
   "source": [
    "import nltk\n",
    "from nltk.tokenize import sent_tokenize, word_tokenize\n",
    "from nltk.corpus import stopwords\n",
    "\n",
    "nltk.download('punkt')\n",
    "nltk.download('stopwords')\n",
    "\n",
    "def find(file_path, target_word_count):\n",
    "    stop_words = set(stopwords.words('russian'))  \n",
    "    with open(file_path, 'r', encoding='utf-8') as file:\n",
    "        text = file.read()\n",
    "\n",
    "    \n",
    "    sentences = sent_tokenize(text, language='russian')  \n",
    "    matc_ces = []\n",
    "\n",
    "    for sentence in sentences:\n",
    "        words = word_tokenize(sentence)\n",
    "        filtered_words = [word for word in words if word.lower() not in stop_words and word.isalpha()]\n",
    "        \n",
    "        if len(filtered_words) == target_word_count:\n",
    "            matc_ces.append((sentence, ' '.join(filtered_words))) \n",
    "    return matc_ces\n",
    "\n",
    "file_path = 'text.txt'  \n",
    "target_word_count = int(input(\"Введите количество слов для поиска: \"))  \n",
    "result_sentences = find(file_path, target_word_count)\n",
    "\n",
    "print(f'Количество предложений с {target_word_count} словами: {len(result_sentences)}')\n",
    "for original, filtered in result_sentences:\n",
    "    print(f'Оригинал: {original}')\n",
    "    print(f'Без стоп-слов: {filtered}')\n"
   ]
  }
 ],
 "metadata": {
  "language_info": {
   "name": "python"
  }
 },
 "nbformat": 4,
 "nbformat_minor": 5
}
