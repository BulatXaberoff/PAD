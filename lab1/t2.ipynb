{
 "cells": [
  {
   "cell_type": "code",
   "execution_count": 2,
   "metadata": {},
   "outputs": [
    {
     "name": "stdout",
     "output_type": "stream",
     "text": [
      "Температура в Фаренгейтах: 73.40°F\n"
     ]
    }
   ],
   "source": [
    "def celsius_to_fahrenheit():\n",
    "    celsius = float(input(\"Введите градусы по Цельсию: \"))\n",
    "    fahrenheit = (celsius * 9/5) + 32\n",
    "    print(f\"Температура в Фаренгейтах: {fahrenheit:.2f}°F\")\n",
    "\n",
    "celsius_to_fahrenheit()\n",
    "# https://planetcalc.ru/244/"
   ]
  },
  {
   "cell_type": "code",
   "execution_count": null,
   "metadata": {},
   "outputs": [],
   "source": []
  }
 ],
 "metadata": {
  "kernelspec": {
   "display_name": "Python 3",
   "language": "python",
   "name": "python3"
  },
  "language_info": {
   "codemirror_mode": {
    "name": "ipython",
    "version": 3
   },
   "file_extension": ".py",
   "mimetype": "text/x-python",
   "name": "python",
   "nbconvert_exporter": "python",
   "pygments_lexer": "ipython3",
   "version": "3.10.0"
  }
 },
 "nbformat": 4,
 "nbformat_minor": 2
}
