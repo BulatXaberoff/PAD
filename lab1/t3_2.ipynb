{
 "cells": [
  {
   "cell_type": "code",
   "execution_count": 13,
   "metadata": {},
   "outputs": [
    {
     "name": "stdout",
     "output_type": "stream",
     "text": [
      "Уникальный массив: [29, 48, 94, 49, 35, 74, 67, 82, 61, 4, 69, 32, 44, 77, 54, 91, 37, 17, 93, 89, 71, 51, 43, 26, 64, 27, 95, 46, 34, 79, 40, 55, 12, 90, 83, 22, 99, 25, 80, 0, 21, 58, 24, 87, 81, 76, 60, 36, 70, 10]\n"
     ]
    }
   ],
   "source": [
    "import random\n",
    "def generate_unique_random_array():\n",
    "    array = random.sample(range(101), 50) \n",
    "    print(f\"Уникальный массив: {array}\")\n",
    "\n",
    "generate_unique_random_array()\n"
   ]
  },
  {
   "cell_type": "code",
   "execution_count": null,
   "metadata": {},
   "outputs": [],
   "source": []
  },
  {
   "cell_type": "code",
   "execution_count": null,
   "metadata": {},
   "outputs": [],
   "source": []
  }
 ],
 "metadata": {
  "kernelspec": {
   "display_name": "Python 3",
   "language": "python",
   "name": "python3"
  },
  "language_info": {
   "codemirror_mode": {
    "name": "ipython",
    "version": 3
   },
   "file_extension": ".py",
   "mimetype": "text/x-python",
   "name": "python",
   "nbconvert_exporter": "python",
   "pygments_lexer": "ipython3",
   "version": "3.10.0"
  }
 },
 "nbformat": 4,
 "nbformat_minor": 2
}
