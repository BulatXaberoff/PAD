{
 "cells": [
  {
   "cell_type": "code",
   "execution_count": 4,
   "metadata": {},
   "outputs": [
    {
     "name": "stdout",
     "output_type": "stream",
     "text": [
      "Ваш возраст: 31.\n"
     ]
    }
   ],
   "source": [
    "import datetime\n",
    "\n",
    "def calculate_age():\n",
    "    current_year = datetime.datetime.now().year\n",
    "    birth_year = int(input(\"Введите год рождения: \"))\n",
    "    age = current_year - birth_year\n",
    "    print(f\"Ваш возраст: {age}.\")\n",
    "\n",
    "calculate_age()\n"
   ]
  },
  {
   "cell_type": "code",
   "execution_count": null,
   "metadata": {},
   "outputs": [],
   "source": []
  }
 ],
 "metadata": {
  "kernelspec": {
   "display_name": "Python 3",
   "language": "python",
   "name": "python3"
  },
  "language_info": {
   "codemirror_mode": {
    "name": "ipython",
    "version": 3
   },
   "file_extension": ".py",
   "mimetype": "text/x-python",
   "name": "python",
   "nbconvert_exporter": "python",
   "pygments_lexer": "ipython3",
   "version": "3.10.0"
  }
 },
 "nbformat": 4,
 "nbformat_minor": 2
}
