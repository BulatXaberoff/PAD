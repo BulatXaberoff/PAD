{
 "cells": [
  {
   "cell_type": "code",
   "execution_count": 5,
   "metadata": {},
   "outputs": [
    {
     "name": "stdout",
     "output_type": "stream",
     "text": [
      "Массив: [85, 90, 32, 29, 81, 73, 42, 72, 88, 22, 84, 54, 19, 38, 3, 91, 82, 98, 69, 48, 86, 17, 95, 25, 16, 78, 93, 90, 24, 36, 2, 71, 20, 85, 29, 18, 25, 38, 16, 42, 6, 58, 67, 77, 31, 6, 26, 73, 3, 2]\n",
      "Минимум: 2\n",
      "Максимум: 98\n",
      "Медиана: 42.0\n",
      "Медиана_свое_решение: 42.0\n"
     ]
    }
   ],
   "source": [
    "import random\n",
    "import statistics\n",
    "\n",
    "def calculate_median(array):\n",
    "    sorted_array = sorted(array)\n",
    "    n = len(sorted_array)\n",
    "    if n % 2 == 0:\n",
    "        median = (sorted_array[n // 2 - 1] + sorted_array[n // 2]) / 2\n",
    "    else:\n",
    "        median = sorted_array[n // 2]\n",
    "    \n",
    "    return median\n",
    "\n",
    "array = [12, 4, 5, 3, 8, 7]\n",
    "\n",
    "def generate_random_array():\n",
    "    array = [random.randint(0, 101) for _ in range(50)]\n",
    "    print(f\"Массив: {array}\")\n",
    "    print(f\"Минимум: {min(array)}\")\n",
    "    print(f\"Максимум: {max(array)}\")\n",
    "    print(f\"Медиана: {statistics.median(array)}\")\n",
    "    print(f\"Медиана_свое_решение: {calculate_median(array)}\")\n",
    "\n",
    "generate_random_array()"
   ]
  },
  {
   "cell_type": "code",
   "execution_count": null,
   "metadata": {},
   "outputs": [],
   "source": []
  },
  {
   "cell_type": "code",
   "execution_count": null,
   "metadata": {},
   "outputs": [],
   "source": []
  }
 ],
 "metadata": {
  "kernelspec": {
   "display_name": "Python 3",
   "language": "python",
   "name": "python3"
  },
  "language_info": {
   "codemirror_mode": {
    "name": "ipython",
    "version": 3
   },
   "file_extension": ".py",
   "mimetype": "text/x-python",
   "name": "python",
   "nbconvert_exporter": "python",
   "pygments_lexer": "ipython3",
   "version": "3.10.0"
  }
 },
 "nbformat": 4,
 "nbformat_minor": 2
}
