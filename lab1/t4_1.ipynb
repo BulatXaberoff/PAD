{
 "cells": [
  {
   "cell_type": "code",
   "execution_count": 2,
   "metadata": {},
   "outputs": [
    {
     "name": "stdout",
     "output_type": "stream",
     "text": [
      "Таблица записана в файл output.txt\n"
     ]
    }
   ],
   "source": [
    "import random\n",
    "\n",
    "def generate_table():\n",
    "    with open(\"output.txt\", \"w\") as file:\n",
    "        for i in range(1, 31):\n",
    "            X = random.uniform(0, 1)  # X from 0 to 10\n",
    "            Y = random.uniform(0, 10)  # Y from 0 to 10\n",
    "            file.write(f\"X({i}) = {X:.2f}, Y({i}) = {Y:.2f}\\n\")\n",
    "        print(\"Таблица записана в файл output.txt\")\n",
    "\n",
    "generate_table()\n"
   ]
  },
  {
   "cell_type": "code",
   "execution_count": null,
   "metadata": {},
   "outputs": [],
   "source": []
  }
 ],
 "metadata": {
  "kernelspec": {
   "display_name": "Python 3",
   "language": "python",
   "name": "python3"
  },
  "language_info": {
   "codemirror_mode": {
    "name": "ipython",
    "version": 3
   },
   "file_extension": ".py",
   "mimetype": "text/x-python",
   "name": "python",
   "nbconvert_exporter": "python",
   "pygments_lexer": "ipython3",
   "version": "3.10.0"
  }
 },
 "nbformat": 4,
 "nbformat_minor": 2
}
