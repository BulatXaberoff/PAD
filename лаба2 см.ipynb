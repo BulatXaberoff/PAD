{
 "cells": [
  {
   "cell_type": "code",
   "execution_count": 8,
   "metadata": {},
   "outputs": [
    {
     "name": "stdout",
     "output_type": "stream",
     "text": [
      "[[0.66360674 0.96642699 0.70582006 0.40220498 0.99278344]\n",
      " [0.18162441 0.1207305  0.38777843 0.13928862 0.78910523]\n",
      " [0.68152371 0.56876106 0.19215765 0.96482271 0.53962446]\n",
      " [0.19552466 0.79955731 0.90756061 0.97187706 0.66911794]\n",
      " [0.71485303 0.83312438 0.29385054 0.97156481 0.42985339]]\n"
     ]
    }
   ],
   "source": [
    "import numpy as np\n",
    "\n",
    "array = np.random.rand(5,5)\n",
    "arr_tr = np.zeros((5,5))\n",
    "\n",
    "for i in range(5):\n",
    "  for j in range(5):\n",
    "    arr_tr[j][i]=array[i][j]\n",
    "np.savetxt('t.txt',arr_tr,fmt=\"%.f\")\n",
    "\n",
    "print(arr_tr)\n"
   ]
  },
  {
   "cell_type": "code",
   "execution_count": 9,
   "metadata": {},
   "outputs": [
    {
     "name": "stdout",
     "output_type": "stream",
     "text": [
      "[[0.66360674 0.18162441 0.68152371 0.19552466 0.71485303]\n",
      " [0.96642699 0.1207305  0.56876106 0.79955731 0.83312438]\n",
      " [0.70582006 0.38777843 0.19215765 0.90756061 0.29385054]\n",
      " [0.40220498 0.13928862 0.96482271 0.97187706 0.97156481]\n",
      " [0.99278344 0.78910523 0.53962446 0.66911794 0.42985339]]\n"
     ]
    }
   ],
   "source": [
    "print(array)"
   ]
  },
  {
   "cell_type": "code",
   "execution_count": null,
   "metadata": {},
   "outputs": [],
   "source": []
  }
 ],
 "metadata": {
  "kernelspec": {
   "display_name": "Python 3",
   "language": "python",
   "name": "python3"
  },
  "language_info": {
   "codemirror_mode": {
    "name": "ipython",
    "version": 3
   },
   "file_extension": ".py",
   "mimetype": "text/x-python",
   "name": "python",
   "nbconvert_exporter": "python",
   "pygments_lexer": "ipython3",
   "version": "3.11.1"
  }
 },
 "nbformat": 4,
 "nbformat_minor": 2
}
